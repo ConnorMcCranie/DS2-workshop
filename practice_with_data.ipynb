{
 "cells": [
  {
   "cell_type": "code",
   "execution_count": 20,
   "metadata": {},
   "outputs": [
    {
     "data": {
      "text/plain": [
       "{'county_name': ['Boulder',\n",
       "  'Broomfield',\n",
       "  'Gilpin',\n",
       "  'Grand',\n",
       "  'Jefferson',\n",
       "  'Larimer',\n",
       "  'Weld'],\n",
       " 'population': [106392, 70465, 6243, 15734, 582881, 356899, 324492],\n",
       " 'area': [740.0, 33.55, 150.0, 1870.0, 774.0, 2634.0, 4017.0],\n",
       " 'density': [143.77297297297298,\n",
       "  2100.2980625931446,\n",
       "  41.62,\n",
       "  8.413903743315508,\n",
       "  753.0762273901809,\n",
       "  135.49696279422932,\n",
       "  80.77968633308438]}"
      ]
     },
     "execution_count": 20,
     "metadata": {},
     "output_type": "execute_result"
    }
   ],
   "source": [
    "# collect the data\n",
    "county_data = \"county_data.csv\"\n",
    "data_dict = {'county_name':[], 'population':[], 'area':[], 'density':[]}\n",
    "\n",
    "with open(county_data, 'r') as file:\n",
    "    for line in file:\n",
    "        name, _,pop, area = line.strip('\\n').split(',')\n",
    "        data_dict['county_name'].append(name)\n",
    "        data_dict['population'].append(int(pop))\n",
    "        data_dict['area'].append(float(area))\n",
    "        data_dict['density'].append(float(pop)/float(area))\n",
    "\n",
    "\n",
    "data_dict\n"
   ]
  },
  {
   "cell_type": "code",
   "execution_count": 21,
   "metadata": {},
   "outputs": [
    {
     "name": "stdout",
     "output_type": "stream",
     "text": [
      "1.707825127659933\n"
     ]
    }
   ],
   "source": [
    "# find the average of a list\n",
    "def average(lst):\n",
    "    return sum(lst) / len(lst)\n",
    "\n",
    "#find standard deviation of a list\n",
    "def standard_deviation(lst):\n",
    "    avg = average(lst)\n",
    "    second_moment = average([x**2 for x in lst])\n",
    "    return (second_moment - avg**2)**0.5\n",
    "\n"
   ]
  },
  {
   "cell_type": "code",
   "execution_count": null,
   "metadata": {},
   "outputs": [],
   "source": []
  }
 ],
 "metadata": {
  "kernelspec": {
   "display_name": "Python 3",
   "language": "python",
   "name": "python3"
  },
  "language_info": {
   "codemirror_mode": {
    "name": "ipython",
    "version": 3
   },
   "file_extension": ".py",
   "mimetype": "text/x-python",
   "name": "python",
   "nbconvert_exporter": "python",
   "pygments_lexer": "ipython3",
   "version": "3.12.4"
  }
 },
 "nbformat": 4,
 "nbformat_minor": 2
}
